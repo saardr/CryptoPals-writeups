{
 "cells": [
  {
   "cell_type": "markdown",
   "id": "c2a7a3a8",
   "metadata": {},
   "source": [
    "# CryptoPals challenges 1-6 writeups -  vinegre cipher\n",
    "\n",
    "#### the following are my solutions + explanations to the first set of the cryptopals challenges, other set solutions can be found at my [github](https://github.com/lordofswords)"
   ]
  },
  {
   "cell_type": "markdown",
   "id": "5586edd4",
   "metadata": {},
   "source": [
    "## challenge 1: Convert hex to base64"
   ]
  },
  {
   "cell_type": "markdown",
   "id": "61a52661",
   "metadata": {},
   "source": [
    "[<strong> description</strong>](https://cryptopals.com/sets/1/challenges/1): <br> \n",
    "> The string: *49276d206b696c6c696e6720796f757220627261696e206c696b65206120706f69736f6e6f7573206d757368726f6f6d* <br><br>\n",
    "Should produce: *SSdtIGtpbGxpbmcgeW91ciBicmFpbiBsaWtlIGEgcG9pc29ub3VzIG11c2hyb29t*"
   ]
  },
  {
   "cell_type": "markdown",
   "id": "9487966c",
   "metadata": {},
   "source": [
    "in other words, we decode a b64 string and then hex it. this quite simple to do in python.\n",
    "\n",
    "quick explanation of how base64 works:\n",
    "take 6 bits every time and convert them to their equivalent b64 encoding.\n",
    "usually you would take 8 bits. $ 2^8 = 256 $. $ 2^6 = 64 $, hence base 64. for instance:\n",
    "\"wow\" = \"\\b01110111\\b01101111\\b01110111\" -> \"011101 110110 111101 110111\" -> \n",
    "29 54 61 55 -> (looking up values in [b64 table](https://en.wikipedia.org/wiki/Base64) -> \"d293\"\n",
    "\n",
    "this can be simply implemented in python, however for simplicity & efficienct i will use the built in libary [`base64`](https://docs.python.org/3/library/base64.html)"
   ]
  },
  {
   "cell_type": "code",
   "execution_count": 1,
   "id": "6b025fe8",
   "metadata": {},
   "outputs": [],
   "source": [
    "from base64 import b64decode, b64encode\n",
    "from binascii import hexlify, unhexlify\n",
    "\n",
    "hex2b64 = lambda b64_s: hexlify(b64decode(b64_s))\n",
    "b64_2_hex = lambda hex_s: b64encode(unhexlify(hex_s))"
   ]
  },
  {
   "cell_type": "code",
   "execution_count": 2,
   "id": "e09b5a67",
   "metadata": {},
   "outputs": [
    {
     "data": {
      "text/plain": [
       "b'SSdtIGtpbGxpbmcgeW91ciBicmFpbiBsaWtlIGEgcG9pc29ub3VzIG11c2hyb29t'"
      ]
     },
     "execution_count": 2,
     "metadata": {},
     "output_type": "execute_result"
    }
   ],
   "source": [
    "b64_2_hex(\"49276d206b696c6c696e6720796f757220627261696e206c696b65206120706f69736f6e6f7573206d757368726f6f6d\")"
   ]
  },
  {
   "cell_type": "code",
   "execution_count": 3,
   "id": "2e62e6bf",
   "metadata": {},
   "outputs": [
    {
     "data": {
      "text/plain": [
       "b'49276d206b696c6c696e6720796f757220627261696e206c696b65206120706f69736f6e6f7573206d757368726f6f6d'"
      ]
     },
     "execution_count": 3,
     "metadata": {},
     "output_type": "execute_result"
    }
   ],
   "source": [
    "hex2b64('SSdtIGtpbGxpbmcgeW91ciBicmFpbiBsaWtlIGEgcG9pc29ub3VzIG11c2hyb29t')"
   ]
  },
  {
   "cell_type": "markdown",
   "id": "3965aaba",
   "metadata": {},
   "source": [
    "## challenge 2: Fixed-XOR"
   ]
  },
  {
   "cell_type": "markdown",
   "id": "3a2189d0",
   "metadata": {},
   "source": [
    "[<strong> description</strong>](https://cryptopals.com/sets/1/challenges/2): <br> \n",
    "> Write a function that takes two equal-length buffers and produces their XOR combination. <br><br>\n",
    "If your function works properly, then when you feed it the string: <br><br>\n",
    "*1c0111001f010100061a024b53535009181c* <br><br>\n",
    "... after hex decoding, and when XOR'd against: <br><br>\n",
    "*686974207468652062756c6c277320657965* <br><br>\n",
    "... should produce: <br><br>\n",
    "*746865206b696420646f6e277420706c61798* \"\"\""
   ]
  },
  {
   "cell_type": "markdown",
   "id": "5338e505",
   "metadata": {},
   "source": [
    "again, a rather simple challenge, we just use python built in xor. notice: the strings are in hex format, so we also need to unhexlify them. <br> this is a good time to mention - all challenges were solved using python built in <i> bytes </i> rather than the default utf-8 strings.\n",
    "\n",
    "from the docs: \n",
    "- [`bytes`](https://docs.python.org/3/library/stdtypes.html#bytes): \"Bytes objects are immutable sequences of single bytes\", basically - normal string but based on ascii encoding as was in python2 rather than utf-8 encoding.\n",
    "bytearray - \"bytearray objects are a mutable counterpart to bytes objects\", self explanatory."
   ]
  },
  {
   "cell_type": "code",
   "execution_count": 4,
   "id": "5390de29",
   "metadata": {},
   "outputs": [],
   "source": [
    "from binascii import hexlify, unhexlify\n",
    "\n",
    "def fixed_hex_XOR(s1_hex, s2_hex) -> bytes:\n",
    "    s1 = unhexlify(s1_hex)\n",
    "    s2 = unhexlify(s2_hex)\n",
    "    res = bytearray([b1^b2 for b1, b2 in zip(s1, s2)])\n",
    "    return hexlify(res)\n",
    "\n",
    "def fixed_XOR(s1 : bytes, s2 : bytes) -> bytes: # for non-hex strings\n",
    "    return bytes([b1^b2 for b1, b2 in zip(s1, s2)])"
   ]
  },
  {
   "cell_type": "code",
   "execution_count": 5,
   "id": "42db599d",
   "metadata": {},
   "outputs": [
    {
     "data": {
      "text/plain": [
       "b'746865206b696420646f6e277420706c6179'"
      ]
     },
     "execution_count": 5,
     "metadata": {},
     "output_type": "execute_result"
    }
   ],
   "source": [
    "fixed_hex_XOR(\"1c0111001f010100061a024b53535009181c\", \"686974207468652062756c6c277320657965\")"
   ]
  },
  {
   "cell_type": "markdown",
   "id": "88788b55",
   "metadata": {},
   "source": [
    "small note - zip takes several iterables and combines their iterators into one. taking the next element out of each, alternating between them. finishes when the smallest iterator is consumed."
   ]
  },
  {
   "cell_type": "markdown",
   "id": "b637a630",
   "metadata": {},
   "source": [
    "## challenge 3: Single-byte XOR cipher"
   ]
  },
  {
   "cell_type": "markdown",
   "id": "6fbc9e5c",
   "metadata": {},
   "source": [
    "[<strong> description</strong>](https://cryptopals.com/sets/1/challenges/3): <br>\n",
    "> The hex encoded string: *1b37373331363f78151b7f2b783431333d78397828372d363c78373e783a393b3736* <br><br>\n",
    "... has been XOR'd against a single character. Find the key, decrypt the message."
   ]
  },
  {
   "cell_type": "markdown",
   "id": "a537c195",
   "metadata": {},
   "source": [
    "this is where the challenges begin getting fun and intresting.\n",
    "our plan of attack is the following: <br>\n",
    "1. come up with a scoring function for candidate bytes, i used a letter freq dictionary as the basis for it, higher score = less likely to be correct <br>\n",
    "2. calculate the scoring for every byte in the ascii table (so from 0 to 127), store the results in a dictionary for       quick access. <br>\n",
    "3. pick the 2 (custom) smallest elements from said dictionary, if the scoring function was good enough the result will be           there. <br>\n",
    "4. decrypt the string using one of the resulting bytes from step 3 (just XOR again since $ a \\oplus b = c \\implies a \\oplus c = b $)\n",
    "\n",
    "coming up with a good scoring function is what i found to be the trickiest part. this is what i came up with after some twicking:"
   ]
  },
  {
   "cell_type": "code",
   "execution_count": 6,
   "id": "96e6feae",
   "metadata": {},
   "outputs": [],
   "source": [
    "eng_letter_freq = { # https://en.wikipedia.org/wiki/Letter_frequency\n",
    "    ord('a') : 8.2,\n",
    "    ord('b') : 1.5,\n",
    "    ord('c') : 2.8,\n",
    "    ord('d') : 4.3,\n",
    "    ord('e') : 13.0,\n",
    "    ord('f') : 2.2,\n",
    "    ord('g') : 2.0,\n",
    "    ord('h') : 6.1,\n",
    "    ord('i') : 7.0,\n",
    "    ord('j') : 0.15,\n",
    "    ord('k') : 0.77,\n",
    "    ord('l') : 4.0,\n",
    "    ord('m') : 2.4,\n",
    "    ord('n') : 6.7,\n",
    "    ord('o') : 7.5,\n",
    "    ord('p') : 1.9,\n",
    "    ord('q') : 0.095,\n",
    "    ord('r') : 6.0,\n",
    "    ord('s') : 6.3,\n",
    "    ord('t') : 9.1,\n",
    "    ord('u') : 2.8,\n",
    "    ord('v') : 0.98,\n",
    "    ord('w') : 2.4,\n",
    "    ord('x') : 0.15,\n",
    "    ord('y') : 2.0,\n",
    "    ord('z') : 0.074,\n",
    "    ord(' ') : 1/6\n",
    "}\n",
    "\n",
    "from collections import Counter\n",
    "import string\n",
    "\n",
    "def evaluate(s):\n",
    "    total = 0\n",
    "    d = dict(Counter(s))\n",
    "    for letter in set(d.keys()).union(set(eng_letter_freq.keys())):\n",
    "        if letter not in eng_letter_freq and chr(letter) not in string.digits:\n",
    "            total += 1\n",
    "        total += abs(d.get(letter, 0)/len(s) - eng_letter_freq.get(letter, 0)/100)**0.5\n",
    "    return total"
   ]
  },
  {
   "cell_type": "markdown",
   "id": "afd18ce7",
   "metadata": {},
   "source": [
    "First, it takes a string and stores its letter-count using python built-in Counter (https://docs.python.org/3/library/collections.html#collections.Counter). <br>\n",
    "it then increases the score based on the char freq in s vs the freq dict and some calculations. notice that if the char is not in the dict altogether, the score is increased more significantly.\n",
    "\n",
    "Undoubtly, this can be improved, and by a lot. further and perhaps better normalization could be done. however it has proved itself sufficient enough for the challenges.\n",
    "\n",
    "the rest of the code as decribed in steps 2-4:"
   ]
  },
  {
   "cell_type": "code",
   "execution_count": 7,
   "id": "869a1477",
   "metadata": {},
   "outputs": [],
   "source": [
    "from binascii import unhexlify\n",
    "import heapq\n",
    "\n",
    "xor_encrypt = lambda s, xor_key: bytearray([b^xor_key for b in s])\n",
    "\n",
    "def break_single_byte_xor(s_hex, guess_cnt = 2): # returns [guess_cnt] keys\n",
    "    s = unhexlify(s_hex)\n",
    "    res_dict = {}\n",
    "    for xor_key in range(128):\n",
    "        s_xored = xor_encrypt(s, xor_key).lower()\n",
    "        res_dict[xor_key] = evaluate(s_xored)\n",
    "    return heapq.nsmallest(guess_cnt, res_dict, key=res_dict.get)"
   ]
  },
  {
   "cell_type": "markdown",
   "id": "5cb91ca6",
   "metadata": {},
   "source": [
    "[`heapq`](https://docs.python.org/3/library/heapq.html) - implements a minimum heap. this allows for efficient finidng of the smallest elements.\n",
    "\n",
    "an even faster way to do so, would be to implement [`quickselect`](https://en.wikipedia.org/wiki/Quickselect), which works similaraly to quicksort; but as `len(res_dict)` is very small, i think the built in libary should perform faster."
   ]
  },
  {
   "cell_type": "code",
   "execution_count": 8,
   "id": "54c250d1",
   "metadata": {},
   "outputs": [
    {
     "data": {
      "text/plain": [
       "\"Cooking MC's like a pound of bacon\""
      ]
     },
     "execution_count": 8,
     "metadata": {},
     "output_type": "execute_result"
    }
   ],
   "source": [
    "from binascii import unhexlify\n",
    "s_hex =  \"1b37373331363f78151b7f2b783431333d78397828372d363c78373e783a393b3736\"\n",
    "xor_key1, xor_key2 = break_single_byte_xor(s_hex)\n",
    "s = unhexlify(s_hex)\n",
    "res = xor_encrypt(s, xor_key1)\n",
    "res.decode()"
   ]
  },
  {
   "cell_type": "markdown",
   "id": "7cb57612",
   "metadata": {},
   "source": [
    "## challenge 4:  Detect single-character XOR"
   ]
  },
  {
   "cell_type": "markdown",
   "id": "0d085b23",
   "metadata": {},
   "source": [
    "[<strong> description</strong>](https://cryptopals.com/sets/1/challenges/4): <br>\n",
    "> One of the 60-character strings in [this file](https://cryptopals.com/static/challenge-data/4.txt) has been encrypted by single-character XOR. <br>\n",
    "Find it. <br>\n",
    "(Your code from #3 should help.)"
   ]
  },
  {
   "cell_type": "markdown",
   "id": "804cdc1d",
   "metadata": {},
   "source": [
    "<strong> plan of attack: </strong> <br>\n",
    "1. read the lines from the file.\n",
    "2. for every line: gather the `guess_cnt` most likely keys, and the resulting plaintext, just like in challenge 3.\n",
    "3. pick the best-score `guess_cnt` plaintext amongst them all "
   ]
  },
  {
   "cell_type": "code",
   "execution_count": 9,
   "id": "c97890a2",
   "metadata": {},
   "outputs": [],
   "source": [
    "from binascii import unhexlify\n",
    "from heapq import nsmallest\n",
    "\n",
    "read_file = lambda filepath: open(filepath).read().splitlines()\n",
    "\n",
    "def chall4_sol(filepath, guess_cnt):\n",
    "    file_lines = read_file(filepath)\n",
    "    possible_words = []\n",
    "    for line in file_lines:\n",
    "        most_likely_keys = break_single_byte_xor(line, guess_cnt)\n",
    "        for key in most_likely_keys:\n",
    "            possible_words.append(xor_encrypt(\n",
    "                unhexlify(line), key).strip())\n",
    "    return heapq.nsmallest(guess_cnt, possible_words, key=evaluate)"
   ]
  },
  {
   "cell_type": "code",
   "execution_count": 10,
   "id": "6ce88952",
   "metadata": {},
   "outputs": [
    {
     "data": {
      "text/plain": [
       "'Now that the party is jumping'"
      ]
     },
     "execution_count": 10,
     "metadata": {},
     "output_type": "execute_result"
    }
   ],
   "source": [
    "chall4_sol(\"input_files/4.txt\", 3)[0].decode()"
   ]
  },
  {
   "cell_type": "markdown",
   "id": "abff0481",
   "metadata": {},
   "source": [
    "## challenge 5: implement repeating key XOR "
   ]
  },
  {
   "cell_type": "markdown",
   "id": "a270d876",
   "metadata": {},
   "source": [
    "[<strong> description</strong>](https://cryptopals.com/sets/1/challenges/4): <br>\n",
    "> Here is the opening stanza of an important work of the English language: <br><br>\n",
    "Burning 'em, if you ain't quick and nimble\n",
    "I go crazy when I hear a cymbal <br><br>\n",
    "Encrypt it, under the key \"ICE\", using repeating-key XOR. <br><br>\n",
    "In repeating-key XOR, you'll sequentially apply each byte of the key; the first byte of plaintext will be XOR'd against I, the next C, the next E, then I again for the 4th byte, and so on. <br><br>\n",
    "It should come out to: <br><br>\n",
    "*0b3637272a2b2e63622c2e69692a23693a2a3c6324202d623d63343c2a26226324272765272*\n",
    "*a282b2f20430a652e2c652a3124333a653e2b2027630c692b20283165286326302e27282f*"
   ]
  },
  {
   "cell_type": "markdown",
   "id": "e0e94b59",
   "metadata": {},
   "source": [
    "luckily, we have the very powerfull `itertools` at our aid, which makes things quite simple. specifically its [`cycle`](\"https://docs.python.org/3/library/itertools.html#itertools.cycle\") method"
   ]
  },
  {
   "cell_type": "code",
   "execution_count": 11,
   "id": "b5be499e",
   "metadata": {},
   "outputs": [],
   "source": [
    "from itertools import cycle\n",
    "from binascii import hexlify\n",
    "\n",
    "def repeating_key_XOR(s, key):\n",
    "    key_bytes = key.encode()\n",
    "    s_bytes = s.encode()\n",
    "    return bytearray([a^b for a,b in zip(s_bytes, cycle(key_bytes))])"
   ]
  },
  {
   "cell_type": "code",
   "execution_count": 12,
   "id": "59605a70",
   "metadata": {},
   "outputs": [
    {
     "data": {
      "text/plain": [
       "b'0b3637272a2b2e63622c2e69692a23693a2a3c6324202d623d63343c2a26226324272765272a282b2f20430a652e2c652a3124333a653e2b2027630c692b20283165286326302e27282f'"
      ]
     },
     "execution_count": 12,
     "metadata": {},
     "output_type": "execute_result"
    }
   ],
   "source": [
    "s = \"\"\"Burning 'em, if you ain't quick and nimble\n",
    "I go crazy when I hear a cymbal\"\"\"\n",
    "hexlify(repeating_key_XOR(s, \"ICE\"))"
   ]
  },
  {
   "cell_type": "markdown",
   "id": "a1bfa688",
   "metadata": {},
   "source": [
    "## challenge 6: Break repeating-key XOR"
   ]
  },
  {
   "cell_type": "markdown",
   "id": "f69993b6",
   "metadata": {},
   "source": [
    "[<strong> description:</strong>](https://cryptopals.com/sets/1/challenges/6) <br>\n",
    "> It is officially on, now. <br><br>\n",
    "This challenge isn't conceptually hard, but it involves actual error-prone coding. The other challenges in this set are there to bring you up to speed. This one is there to qualify you. If you can do this one, you're probably just fine up to Set 6. <br><br>\n",
    "There's a [file](https://cryptopals.com/static/challenge-data/6.txt) here. It's been base64'd after being encrypted with repeating-key XOR. <br><br>\n",
    "Decrypt it.\n",
    "\"\"\""
   ]
  },
  {
   "cell_type": "markdown",
   "id": "f37947c3",
   "metadata": {},
   "source": [
    "This was an intresting challenge. our <strong> plan of attack is </strong>\n",
    "\n",
    "1. first we guess the keysize:\n",
    "    1. we write a [`hamming_distance`](https://en.wikipedia.org/wiki/Hamming_distance) function - the hamming distance is the number of differing bits <strong>(NOTE: not letters, but bits)</strong> between two string, this can be easily achieved by $\\oplus$ing the two strings, and counting how many bits are on. \n",
    "    2. for every keysize in range(min_keysize, max_keysize):\n",
    "         1. split the ciphertext into blocks of size keysize each. then go through the text summing the hamming distance of every 2 adjacent blocks (so block1 with 2, block 3 with 4 etc...).<br> while summing, normalize diving by keysize. this is because as the length of the block increases, so does inevitably its hamming distance<br>\n",
    "         2. normalize the entire sum, by the block count. this is because of we take for instance the string: \n",
    "         <i>\"12345678\"</i>. one way we may calcaulte its keysize is by doing for keysize=2: <br>\n",
    "         <font size = 4.5> $\\frac{`12`\\oplus`34`}{2} + \\frac{`56`\\oplus`78`}{2} = \\frac{`1234`\\oplus`5678`}{2}$ </font> <br> while another can be for keysize=4:\n",
    "         <font size = 4.5> $\\frac{`1234`\\oplus`5678`}{4}$ </font>, which is why we need to normalize by the block count. (which will result in both keysize 2 & 4 being divided equally by 8) <br>\n",
    "         <strong> the normalized sum is the score. the lower it is - the better. </strong>\n",
    "         3. pick the `guess_cnt` smallest-scored keysizes. those are our candidates."
   ]
  },
  {
   "cell_type": "code",
   "execution_count": 13,
   "id": "12675995",
   "metadata": {},
   "outputs": [],
   "source": [
    "# step A\n",
    "def hamming_dist(s1_bytes : bytes, s2_bytes : bytes):\n",
    "    return sum(__get_differing_bits_between_bytes(b1, b2) for b1,\n",
    "        b2 in zip(s1_bytes, s2_bytes))\n",
    "def __get_differing_bits_between_bytes(byte1, byte2):\n",
    "    num, cnt = byte1^byte2, 0\n",
    "    for i in range(8):\n",
    "        cnt += (num >> i) & 1\n",
    "    return cnt"
   ]
  },
  {
   "cell_type": "code",
   "execution_count": 14,
   "id": "99cffec1",
   "metadata": {},
   "outputs": [],
   "source": [
    "# step B\n",
    "from heapq import nsmallest\n",
    "\n",
    "def get_keysize(ciphertext_bytes, guess_cnt=3):\n",
    "    keysize_scores_dic = {}\n",
    "    for keysize in range(MIN_XOR_KEYSIZE, MAX_XOR_KEYSIZE + 1):\n",
    "        count = len(ciphertext_bytes)//keysize\n",
    "        if count <= 1:\n",
    "            continue\n",
    "        keysize_score = get_keysize_score(ciphertext_bytes, keysize, count)\n",
    "        keysize_scores_dic[keysize] = keysize_score\n",
    "    return nsmallest(guess_cnt, keysize_scores_dic, key=keysize_scores_dic.get)\n",
    "\n",
    "def get_keysize_score(ciphertext_bytes, keysize, count = 2):\n",
    "    total_score = 0\n",
    "    words = [ciphertext_bytes[keysize*i:keysize*(i+1)] for i in range(count)]\n",
    "    for i in range(0, count-1, 2):\n",
    "        total_score += hamming_dist(words[i], words[i+1])/(keysize)\n",
    "    return total_score/(count//2)"
   ]
  },
  {
   "cell_type": "markdown",
   "id": "455db366",
   "metadata": {},
   "source": [
    "### why this works?"
   ]
  },
  {
   "cell_type": "markdown",
   "id": "a308c555",
   "metadata": {},
   "source": [
    "consider two random bytes. the [expected value](https://en.wikipedia.org/wiki/Expected_value) of their hamming distance is:\n",
    "\n",
    "<font size = 4.5> $\\mathbb{E}[HammingDist(b1,b2)] = \\sum_{X=0}^{8}\\mathbb{P}(HammingDist(b1,b2)=X)\\cdot X = \\sum_{i=0}^{8} \\frac{256\\cdot \\binom{8}{i}}{256^2}\\cdot i = \\sum_{i=0}^{8}\\frac{\\binom{8}{i}}{256}\\cdot i = 4 $ </font>\n",
    "\n",
    "we use a unified probablity space $\\Omega$ where $P(\\omega) = \\frac{1}{|\\Omega|}$. multiplying by $256$ is because of all the possible values for the first byte, and the $\\binom{8}{i}$ is how many options there are for the second byte, depending on the hamming distance meaning how many bits are different from the first one. we divide by $256^2$ because $|\\Omega| = 256^2$."
   ]
  },
  {
   "cell_type": "code",
   "execution_count": 15,
   "id": "39dc6e96",
   "metadata": {
    "scrolled": true
   },
   "outputs": [
    {
     "data": {
      "text/plain": [
       "4.0"
      ]
     },
     "execution_count": 15,
     "metadata": {},
     "output_type": "execute_result"
    }
   ],
   "source": [
    "from math import comb\n",
    "sum(i*comb(8, i) for i in range(9))/256"
   ]
  },
  {
   "cell_type": "markdown",
   "id": "624c07ba",
   "metadata": {},
   "source": [
    "however, for two random alphanumeric letter, as the ones we would find in a plaintext, their values range between 48-122 (ascii table), which is significantly smaller than 0-255. this means the expected value of their hamming distance is going to be smaller:\n",
    "\n",
    "<font size = 4.5> $b1,b2\\in{AlphaNumerics} \\implies 48 <= b1, b2 <= 122 \\implies \\mathbb{E}[HammingDist(b1,b2)] = \\sum_{b1,b2\\in{AlphaNumerics}}\\mathbb{P}(b1,b2)\\cdot HammingDist(b1,b2) = $ <br> $= \\frac{1}{|\\Omega|}\\sum_{b1,b2\\in{AlphaNumberics}}HammingDist(b1,b2) = 3.311  $ </font>\n",
    "\n",
    "and this is for the entire 48-122 range, while in reality there are barely any non-letters in plaintext therefore making the expected hamming value even smaller."
   ]
  },
  {
   "cell_type": "code",
   "execution_count": 16,
   "id": "cd3bbfab",
   "metadata": {},
   "outputs": [
    {
     "data": {
      "text/plain": [
       "3.3109333333333333"
      ]
     },
     "execution_count": 16,
     "metadata": {},
     "output_type": "execute_result"
    }
   ],
   "source": [
    "total = 0\n",
    "for b1 in range(48, 123):\n",
    "    for b2 in range(48, 123):\n",
    "        total += __get_differing_bits_between_bytes(b1, b2)\n",
    "total /= (122-48+1)**2\n",
    "total"
   ]
  },
  {
   "cell_type": "markdown",
   "id": "6347ffd8",
   "metadata": {},
   "source": [
    "consider `ciphertext`. divide ciphertext into `blocks` for a given `keysize`.\n",
    "- if keysize is correct: `blocks[i] = plaintext[keysize*i:keysize*(i+1)]` $\\oplus$ `key`; `blocks[i+1] = plaintext[(i+1)*keysize:(i+2)*keysize]` $\\oplus$ `key`. when we do `blocks[i]` $\\oplus$ `blocks[i+1] = alphanumeric_hamming` <strong> the key cancels out as $\\oplus$ is commutative</strong>, and we are left with plaintext hamming which has an expected value <= 3.3\n",
    "- if keysize is incorrect: `blocks[i]` $\\oplus$ `blocks[i+1] = random_bytes_hamming` as key won't cancel itself out, resulting in an expected value of 4.0.\n",
    "\n",
    "hence, the correct keysize should have the best score (meaning smallest) after decet normalization"
   ]
  },
  {
   "cell_type": "markdown",
   "id": "60d8ce9f",
   "metadata": {},
   "source": [
    "Now that we have our correct keysize its time to get back to the attack plan:\n",
    "\n",
    "2. we then create tmp_blocks of size `keysize` out of the cipher, we fill the last block if necessary with 0s.\n",
    "3. we create new blocks, where block[k] = [tmp_block[k] for tmp_block in tmp_blocks]\n",
    "4. assuming we are correct about the keysize, every block in blocks was encrypted using a single byte xor. now this we already know how to solve, so we solve for every block.\n",
    "5. we concatenate the results and we WIN :). this is a good time to use some neat pythoninc code as well:"
   ]
  },
  {
   "cell_type": "code",
   "execution_count": 17,
   "id": "ef053b7b",
   "metadata": {},
   "outputs": [],
   "source": [
    "from binascii import hexlify\n",
    "from itertools import zip_longest\n",
    "\n",
    "MIN_XOR_KEYSIZE = 2\n",
    "MAX_XOR_KEYSIZE = 30\n",
    "\n",
    "def break_repeating_key_XOR(ciphertext_bytes, guess_cnt=3):\n",
    "    possible_keys = []\n",
    "    possible_keysizes = get_keysize(ciphertext_bytes, guess_cnt)\n",
    "    for keysize in possible_keysizes:\n",
    "        key = bytearray(__break_repeating_key_XOR_with_keysize(ciphertext_bytes, keysize)).decode()\n",
    "        possible_keys.append(key)\n",
    "    return possible_keys\n",
    "\n",
    "def __break_repeating_key_XOR_with_keysize(ciphertext_bytes, keysize):\n",
    "    res_arr = []\n",
    "    blocks = handle_block_logic(ciphertext_bytes, keysize)\n",
    "    for block in blocks:\n",
    "        tmp = break_single_byte_xor(hexlify(bytearray(block)), 1)\n",
    "        byte_key1 = tmp[0]\n",
    "        res_arr.append(byte_key1)\n",
    "    return res_arr\n",
    "\n",
    "def handle_block_logic(ciphertext_bytes, keysize):\n",
    "    # create the blocks of size keysize.\n",
    "    blocks = __grouper(ciphertext_bytes, keysize, fillvalue=0)\n",
    "    # the * unpacks the iterator returned by grouper, then zips the blocks together which is step (3)\n",
    "    transformed_blocks = list(zip(*blocks))\n",
    "    return transformed_blocks\n",
    "\n",
    "\"\"\"taken directly from the itertools docs recipe section\n",
    "(https://docs.python.org/3/library/itertools.html#itertools-recipes)\"\"\"\n",
    "# this works because we are creating n references to the same iterator and not n iterators\n",
    "def __grouper(iterable, n, fillvalue=None):\n",
    "    \"Collect data into fixed-length chunks or blocks\"\n",
    "    # grouper('ABCDEFG', 3, 'x') --> ABC DEF Gxx\"\n",
    "    args = [iter(iterable)] * n \n",
    "    return zip_longest(*args, fillvalue=fillvalue)"
   ]
  },
  {
   "cell_type": "code",
   "execution_count": 18,
   "id": "7ce62178",
   "metadata": {},
   "outputs": [],
   "source": [
    "from base64 import b64decode\n",
    "get_ciphertext_from_file = lambda filename: b64decode(open(filename).read()) "
   ]
  },
  {
   "cell_type": "code",
   "execution_count": 19,
   "id": "d11dfe9e",
   "metadata": {},
   "outputs": [
    {
     "name": "stdout",
     "output_type": "stream",
     "text": [
      "key: 'Terminator X: Bring the noise' | keysize: 29\n",
      "I'm back and I'm ringin' the bell \n",
      "A rockin' on the mike while the fly girls yell \n",
      "In ecstasy in the back of me \n",
      "Well that's my DJ Deshay cuttin' all them Z's \n",
      "Hittin' hard and the girlies goin' crazy \n",
      "Vanilla's on the mike, man I'm not lazy. \n",
      "\n",
      "I'm lettin' my drug kick in \n",
      "It controls my mouth and I begin \n",
      "To just let it flow, let my concepts go \n",
      "My posse's to the side yellin', Go Vanilla Go! \n",
      "\n",
      "Smooth 'cause that's the way I will be \n",
      "And if you don't give a damn, then \n",
      "Why you starin' at me \n",
      "So get off 'cause I control the stage \n",
      "There's no dissin' allowed \n",
      "I'm in my own phase \n",
      "The girlies sa y they love me and that is ok \n",
      "And I can dance better than any kid n' play \n",
      "\n",
      "Stage 2 -- Yea the one ya' wanna listen to \n",
      "It's off my head so let the beat play through \n",
      "So I can funk it up and make it sound good \n",
      "1-2-3 Yo -- Knock on some wood \n",
      "For good luck, I like my rhymes atrocious \n",
      "Supercalafragilisticexpialidocious \n",
      "I'm an effect and that you can bet \n",
      "I can take a fly girl and make her wet. \n",
      "\n",
      "I'm like Samson -- Samson to Delilah \n",
      "There's no denyin', You can try to hang \n",
      "But you'll keep tryin' to get my style \n",
      "Over and over, practice makes perfect \n",
      "But not if you're a loafer. \n",
      "\n",
      "You'll get nowhere, no place, no time, no girls \n",
      "Soon -- Oh my God, homebody, you probably eat \n",
      "Spaghetti with a spoon! Come on and say it! \n",
      "\n",
      "VIP. Vanilla Ice yep, yep, I'm comin' hard like a rhino \n",
      "Intoxicating so you stagger like a wino \n",
      "So punks stop trying and girl stop cryin' \n",
      "Vanilla Ice is sellin' and you people are buyin' \n",
      "'Cause why the freaks are jockin' like Crazy Glue \n",
      "Movin' and groovin' trying to sing along \n",
      "All through the ghetto groovin' this here song \n",
      "Now you're amazed by the VIP posse. \n",
      "\n",
      "Steppin' so hard like a German Nazi \n",
      "Startled by the bases hittin' ground \n",
      "There's no trippin' on mine, I'm just gettin' down \n",
      "Sparkamatic, I'm hangin' tight like a fanatic \n",
      "You trapped me once and I thought that \n",
      "You might have it \n",
      "So step down and lend me your ear \n",
      "'89 in my time! You, '90 is my year. \n",
      "\n",
      "You're weakenin' fast, YO! and I can tell it \n",
      "Your body's gettin' hot, so, so I can smell it \n",
      "So don't be mad and don't be sad \n",
      "'Cause the lyrics belong to ICE, You can call me Dad \n",
      "You're pitchin' a fit, so step back and endure \n",
      "Let the witch doctor, Ice, do the dance to cure \n",
      "So come up close and don't be square \n",
      "You wanna battle me -- Anytime, anywhere \n",
      "\n",
      "You thought that I was weak, Boy, you're dead wrong \n",
      "So come on, everybody and sing this song \n",
      "\n",
      "Say -- Play that funky music Say, go white boy, go white boy go \n",
      "play that funky music Go white boy, go white boy, go \n",
      "Lay down and boogie and play that funky music till you die. \n",
      "\n",
      "Play that funky music Come on, Come on, let me hear \n",
      "Play that funky music white boy you say it, say it \n",
      "Play that funky music A little louder now \n",
      "Play that funky music, white boy Come on, Come on, Come on \n",
      "Play that funky music \n",
      "\n"
     ]
    }
   ],
   "source": [
    "guess_cnt = 1\n",
    "filepath = \"input_files/6.txt\"\n",
    "\n",
    "ciphertext_bytes = get_ciphertext_from_file(filepath)\n",
    "possible_keys = break_repeating_key_XOR(ciphertext_bytes, guess_cnt)\n",
    "for key in possible_keys:\n",
    "    print(f\"key: '{key}' | keysize: {len(key)}\")\n",
    "    res = repeating_key_XOR(ciphertext_bytes.decode(), key).decode()\n",
    "    print(res)"
   ]
  },
  {
   "cell_type": "code",
   "execution_count": null,
   "id": "31431e87",
   "metadata": {},
   "outputs": [],
   "source": []
  }
 ],
 "metadata": {
  "kernelspec": {
   "display_name": "Python 3 (ipykernel)",
   "language": "python",
   "name": "python3"
  },
  "language_info": {
   "codemirror_mode": {
    "name": "ipython",
    "version": 3
   },
   "file_extension": ".py",
   "mimetype": "text/x-python",
   "name": "python",
   "nbconvert_exporter": "python",
   "pygments_lexer": "ipython3",
   "version": "3.9.10"
  }
 },
 "nbformat": 4,
 "nbformat_minor": 5
}
