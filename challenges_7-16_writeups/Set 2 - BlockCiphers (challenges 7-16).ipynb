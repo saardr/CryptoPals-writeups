{
 "cells": [
  {
   "cell_type": "markdown",
   "metadata": {
    "collapsed": true
   },
   "source": [
    "# CryptoPals challenges 7-16\n",
    "\n",
    "#### the following are my solutions + explanations to the second set of the cryptopals challenges, other set solutions can be found at my [github](https://github.com/lordofswords)\n",
    "\n",
    "##### the challenges will not be solved in their order, but rather in the order that makes the code most readable throughout."
   ]
  },
  {
   "cell_type": "markdown",
   "metadata": {},
   "source": [
    "## Challenge 9 + 15: Implement PKCS#7 padding and validation"
   ]
  },
  {
   "cell_type": "markdown",
   "metadata": {},
   "source": [
    "[<strong> description (9)</strong>](https://cryptopals.com/sets/2/challenges/9): <br>\n",
    ">  A block cipher transforms a fixed-sized block (usually 8 or 16 bytes) of plaintext into ciphertext. But we almost never want to transform a single block; we encrypt irregularly-sized messages. <br> <br>\n",
    "One way we account for irregularly-sized messages is by padding, creating a plaintext that is an even multiple of the blocksize. The most popular padding scheme is called PKCS#7. <br><br>\n",
    "So: pad any block to a specific block length, by appending the number of bytes of padding to the end of the block. For instance, <br><br>\n",
    "\"YELLOW SUBMARINE\" <br><br>\n",
    "... padded to 20 bytes would be: <br> <br>\n",
    "\"YELLOW SUBMARINE\\x04\\x04\\x04\\x04\""
   ]
  },
  {
   "cell_type": "markdown",
   "metadata": {},
   "source": [
    "[<strong> description (15)</strong>](https://cryptopals.com/sets/2/challenges/15): <br>\n",
    ">  Write a function that takes a plaintext, determines if it has valid PKCS#7 padding, and strips the padding off.\n",
    "<br><br>\n",
    "The string:\n",
    "<br><br>\n",
    "\"ICE ICE BABY\\x04\\x04\\x04\\x04\"\n",
    "<br><br>\n",
    "... has valid padding, and produces the result \"ICE ICE BABY\".\n",
    "<br><br>\n",
    "The string:\n",
    "<br><br>\n",
    "\"ICE ICE BABY\\x05\\x05\\x05\\x05\"\n",
    "<br><br>\n",
    "... does not have valid padding, nor does:\n",
    "<br><br>\n",
    "\"ICE ICE BABY\\x01\\x02\\x03\\x04\"\n",
    "<br><br>\n",
    "If you are writing in a language with exceptions, like Python or Ruby, make your function throw an exception on bad padding.\n",
    "<br><br>\n",
    "Crypto nerds know where we're going with this. Bear with us. "
   ]
  },
  {
   "cell_type": "markdown",
   "metadata": {},
   "source": [
    "We Start the second set of challenges by implementing Pkcs#7 padding. important to note - if we have text of size 16 for instance, we need to append to it 16 more padding bytes to length 32, i.e. padding of length 0 is invalid."
   ]
  },
  {
   "cell_type": "code",
   "execution_count": 17,
   "metadata": {},
   "outputs": [],
   "source": [
    "class PKCS7Error(Exception):\n",
    "    \"\"\" An Exception for pkcs7 padding errors. \"\"\"\n",
    "\n",
    "    def __init__(self, bad_padding : bytes, block_size = 16):\n",
    "        \"\"\"Takes a bad padding, and generates information about why its bad\"\"\"\n",
    "        self.block_size = block_size\n",
    "        self.bad_padding = bad_padding\n",
    "        # the last byte of a valid padding is the padding size.\n",
    "        padding_size = bad_padding[-1]\n",
    "        # check whether the padding size is too large:\n",
    "        if padding_size >= block_size:\n",
    "            self.msg = \"bad padding:\\n {}, padding size is: {} > {} = block_size\"    \n",
    "            self.msg = self.msg.format(bad_padding, padding_size, len(bad_padding))\n",
    "        \n",
    "        else:\n",
    "            self.msg = \"bad padding:\\n {}, padding size is: {}, however, byte #{} = {}\"\n",
    "            # in a valid padding, the previous {padding_size} bytes should all be equal to padding size\n",
    "            # i.e \"\\x04\\x04\\x04\\x04\" is a valid padding\n",
    "            # \"\\x03\\x03\\x02\\x04\" is invalid\n",
    "\n",
    "            # find first occurence of invalid padding, the first \"\\x03\" above for example\n",
    "            for idx, c in enumerate(bad_padding):\n",
    "                # found first invalid byte\n",
    "                if c != padding_size:\n",
    "                    # update the message with information and generate the exception\n",
    "                    msg = msg.format(bad_padding, padding_size, idx+1, c)\n",
    "                    break\n",
    "\n",
    "        super().__init__(self.msg)\n",
    "\n",
    "\n",
    "def add_PKCS7(plaintext : bytes, block_size = 16) -> bytes:\n",
    "    \"\"\" Takes a plaintext and returns the plaintext with appended pkcs7 padding \"\"\"\n",
    "\n",
    "    # calculate padding size based on how many bytes are missing for the last block to be complete.\n",
    "    # i.e. \"b\"*16 + \"aaaa------------\" is missing 12 bytes in its 'aaaa' block\n",
    "    padding_size = block_size - len(plaintext)%block_size\n",
    "    # return the plaintext with the padding appended in bytes format\n",
    "    return plaintext + bytes([padding_size]*padding_size)\n",
    "    \n",
    "def validate_and_remove_PKCS7(plaintext_with_padding : bytes, block_size = 16) -> bytes:\n",
    "    \"\"\"Takes a plaintext that has been decrypted, and verifies its pkcs7 padding is valid, else raise PKCS7Error\"\"\"\n",
    "\n",
    "    # in a valid padding, the padding size is stored in the last byte.\n",
    "    padding_size = plaintext_with_padding[-1]\n",
    "    # if padding size is too large, raise an exception\n",
    "    if padding_size >= block_size:\n",
    "        raise PKCS7Error(plaintext_with_padding, block_size)\n",
    "\n",
    "    # in a valid padding, the previous {padding_size} bytes should all be equal to padding size\n",
    "    # i.e \"\\x04\\x04\\x04\\x04\" is a valid padding\n",
    "    # \"\\x03\\x03\\x02\\x04\" is invalid\n",
    "    padding = plaintext_with_padding[-padding_size:]\n",
    "    if padding == bytes([padding_size]*padding_size): # valid padding\n",
    "        return plaintext_with_padding[:-padding_size]\n",
    "    raise PKCS7Error(padding)"
   ]
  },
  {
   "cell_type": "code",
   "execution_count": 18,
   "metadata": {},
   "outputs": [
    {
     "data": {
      "text/plain": [
       "b'YELLOW SUBMARINE\\x04\\x04\\x04\\x04'"
      ]
     },
     "execution_count": 18,
     "metadata": {},
     "output_type": "execute_result"
    }
   ],
   "source": [
    "add_PKCS7(b\"YELLOW SUBMARINE\", 20)"
   ]
  },
  {
   "cell_type": "markdown",
   "metadata": {},
   "source": [
    "Also, let us update the `ECB_encrypt` method from challenge 7 to also use padding:"
   ]
  },
  {
   "cell_type": "markdown",
   "metadata": {},
   "source": [
    "## Challenge 7: AES in ECB mode"
   ]
  },
  {
   "cell_type": "markdown",
   "metadata": {},
   "source": [
    "[<strong> description</strong>](https://cryptopals.com/sets/1/challenges/7): <br>\n",
    "> The Base64-encoded content in this [file](https://cryptopals.com/static/challenge-data/7.txt) has been encrypted via AES-128 in ECB mode under the key <br>  <br>\n",
    "\"YELLOW SUBMARINE\". <br> <br>\n",
    "(case-sensitive, without the quotes; exactly 16 characters; I like \"YELLOW SUBMARINE\" because it's exactly 16 bytes long, and now you do too). <br> <br>\n",
    "Decrypt it. You know the key, after all."
   ]
  },
  {
   "cell_type": "markdown",
   "metadata": {},
   "source": [
    "The description of how the AES cipher works can be found at the official [fips](http://nvlpubs.nist.gov/nistpubs/FIPS/NIST.FIPS.197.pdf), however, in my opinion it is better described by [computerphile](https://youtu.be/O4xNJsjtN6E)\n",
    "\n",
    "I'll be using the [cryptography](https://cryptography.io/) libary, as it provides a python interface for using the algorithms while using low level implementations thus not impacting performance as much."
   ]
  },
  {
   "cell_type": "code",
   "execution_count": 39,
   "metadata": {},
   "outputs": [],
   "source": [
    "from base64 import b64decode, b64encode\n",
    "\n",
    "from cryptography.hazmat.primitives.ciphers import ( \n",
    "    Cipher, algorithms, modes\n",
    ")\n",
    "\n",
    "class Block_size_error(Exception):\n",
    "    def __init__(self, ciphertext : bytes, block_size = 16) -> bytes:\n",
    "        self.msg = f\"The ciphertext is incomplete or too long, the length of its last block is \\\n",
    "                    = {len(ciphertext) % block_size} ; while its actual block size = {block_size}\"\n",
    "        \n",
    "        super().__init__(self.msg)\n",
    "\n",
    "class AES_ECB:\n",
    "    \"\"\" A class for encrypting and decrypting with AES in ECB mode. will be using pkcs#7 padding for enc/dec.\"\"\"\n",
    "    def __init__(self, key : bytes) -> bytes:\n",
    "        \"\"\" Create an instance with a key that will be used for all further enc/dec tasks of this instace\"\"\"\n",
    "        self.block_size = 16\n",
    "        self.cipher = Cipher(algorithms.AES(key), modes.ECB())\n",
    "        self.keysize = len(key)*8\n",
    "\n",
    "\n",
    "    def decrypt(self, ciphertext : bytes) -> bytes:\n",
    "        \"\"\" decrypt a block of ciphertext using the provided key. \n",
    "        ciphertext size must be a multiple of 16.\"\"\"\n",
    "\n",
    "        if len(ciphertext) % self.block_size != 0:\n",
    "            raise Block_size_error(ciphertext)\n",
    "\n",
    "        # generate cipher decryptor using cryptography libary.\n",
    "        decryptor = self.cipher.decryptor()\n",
    "        plaintext_blocks = []\n",
    "\n",
    "        \n",
    "        # decrypt all blocks but the last one\n",
    "        for i in range(0, len(ciphertext)-self.block_size, self.block_size):\n",
    "            cipher_block = ciphertext[i : i+self.block_size]\n",
    "            decrypted_block = decryptor.update(cipher_block)\n",
    "        \n",
    "            # remove padding from plaintext\n",
    "            plaintext_blocks.append(decrypted_block)\n",
    "        \n",
    "        # decrypt last block\n",
    "        padded_block = ciphertext[-self.block_size:]\n",
    "        decrypted_block_with_padding = decryptor.update(padded_block) # + decryptor.finalize()\n",
    "        decrypted_block = validate_and_remove_PKCS7(decrypted_block_with_padding)\n",
    "            \n",
    "        plaintext = b''.join(plaintext_blocks)\n",
    "        return plaintext\n",
    "\n",
    "    def decrypt_file(self, filepath) -> bytes:\n",
    "        \"\"\" Decrypts a file encrypted using AES-ECB with self.key then encoded in b64 \"\"\"\n",
    "        file_contents = b64decode(open(filepath).read())\n",
    "        return self.decrypt(file_contents)\n",
    "\n",
    "    def encrypt(self, plaintext : bytes) -> bytes:\n",
    "        \"\"\" Encrypts the plaintext using AES-ECB with self.key \"\"\"\n",
    "        padded_plaintext = add_PKCS7(plaintext)\n",
    "        # generate cipher encryptor using cryptography libary\n",
    "        encryptor = self.cipher.encryptor()\n",
    "        ciphertext_blocks = []\n",
    "        \n",
    "        # one block at a time, encrypt the plaintext\n",
    "        for i in range(0, len(padded_plaintext), self.block_size):\n",
    "            plaintext_block = padded_plaintext[i : i+self.block_size]\n",
    "            encrypted_block = encryptor.update(plaintext_block)\n",
    "            ciphertext_blocks.append(encrypted_block)\n",
    "\n",
    "        encryptor.finalize()\n",
    "\n",
    "        ciphertext = b''.join(ciphertext_blocks)\n",
    "        return ciphertext\n",
    "\n",
    "    def encrypt_file(self, filepath, newfile_path = None) -> None:\n",
    "        \"\"\" encrypts a file, then saves b64 of the result,\n",
    "         if no path for a new file is provided, overwrites the original file \"\"\"\n",
    "\n",
    "        file_content = open(filepath, 'rb').read()\n",
    "        encrypted_file_content = self.encrypt(file_content)\n",
    "\n",
    "        if newfile_path is None:\n",
    "            newfile_path = filepath\n",
    "        \n",
    "        open(newfile_path, 'w').write(b64encode(encrypted_file_content))\n"
   ]
  },
  {
   "cell_type": "code",
   "execution_count": 40,
   "metadata": {},
   "outputs": [
    {
     "data": {
      "text/plain": [
       "b\"I'm back and I'm ringin' the bell \\nA rockin' on the\""
      ]
     },
     "execution_count": 40,
     "metadata": {},
     "output_type": "execute_result"
    }
   ],
   "source": [
    "KEY = b\"YELLOW SUBMARINE\"\n",
    "decryptor = AES_ECB(KEY)\n",
    "decryptor.decrypt_file(\"input_files/7.txt\")[:51]"
   ]
  },
  {
   "cell_type": "markdown",
   "metadata": {},
   "source": [
    "## Challenge 8: Detect AES in ECB mode "
   ]
  },
  {
   "cell_type": "markdown",
   "metadata": {},
   "source": [
    "[<strong> description</strong>](https://cryptopals.com/sets/1/challenges/8): <br> <br>\n",
    ">  In this [file](https://cryptopals.com/static/challenge-data/8.txt) are a bunch of hex-encoded ciphertexts. <br> <br>\n",
    "One of them has been encrypted with ECB. <br> <br>\n",
    "Detect it. <br> <br>\n",
    "Remember that the problem with ECB is that it is stateless and deterministic; the same 16 byte plaintext block will always produce the same 16 byte ciphertext."
   ]
  },
  {
   "attachments": {
    "ECB_encryption.png": {
     "image/png": "[encoded data removed]"
    }
   },
   "cell_type": "markdown",
   "metadata": {},
   "source": [
    "Solution: we use the fact the ECB generates the same cipher-block for the same plain-block, therefore an easy (and the only one i am aware of) for detecting it, is looking for 2 blocks with the same value:  \n",
    "we split every line into 16-bytes long blocks, and find the line for which two blocks are the same. this image pretty much says it all:  \n",
    "![ECB_encryption.png](attachment:ECB_encryption.png)"
   ]
  },
  {
   "cell_type": "code",
   "execution_count": 27,
   "metadata": {},
   "outputs": [],
   "source": [
    "from collections import Counter\n",
    "from binascii import unhexlify\n",
    "\n",
    "class Chall8:\n",
    "    @staticmethod\n",
    "    def get_lines(filepath):\n",
    "        return [unhexlify(line) for line in open(filepath).read().splitlines()]\n",
    "    \n",
    "    @staticmethod\n",
    "    def split_line_2_blocks(line, block_size = 16):\n",
    "        byte_blocks = [line[16*i:16*(i+1)] for i in range((len(line)+15)//16)]\n",
    "        return dict(Counter(byte_blocks))\n",
    "    \n",
    "    @staticmethod\n",
    "    def is_ECB_mode(ciphertext):\n",
    "        ciphertext_block_cnt = Chall8.split_line_2_blocks(ciphertext)\n",
    "        return any(x > 2 for x in ciphertext_block_cnt.values())\n",
    "    \n",
    "    @staticmethod\n",
    "    def find_ecbEncryptedText(filepath):\n",
    "        for row_num, line in enumerate(Chall8.get_lines(filepath)):\n",
    "            if Chall8.is_ECB_mode(line):\n",
    "                print(f\"potential ecb-encrypted row: {row_num+1}\")"
   ]
  },
  {
   "cell_type": "code",
   "execution_count": 28,
   "metadata": {},
   "outputs": [
    {
     "name": "stdout",
     "output_type": "stream",
     "text": [
      "potential ecb-encrypted row: 133\n"
     ]
    }
   ],
   "source": [
    "Chall8.find_ecbEncryptedText(\"input_files/8.txt\")"
   ]
  },
  {
   "cell_type": "markdown",
   "metadata": {},
   "source": [
    "#  Set 2"
   ]
  },
  {
   "cell_type": "markdown",
   "metadata": {},
   "source": [
    "## Challenge 10: Implement CBC mode"
   ]
  },
  {
   "cell_type": "markdown",
   "metadata": {},
   "source": [
    "[<strong> description</strong>](https://cryptopals.com/sets/2/challenges/10): <br>\n",
    ">  CBC mode is a block cipher mode that allows us to encrypt irregularly-sized messages, despite the fact that a block cipher natively only transforms individual blocks. <br><br>\n",
    "In CBC mode, each ciphertext block is added to the next plaintext block before the next call to the cipher core. <br><br>\n",
    "The first plaintext block, which has no associated previous ciphertext block, is added to a \"fake 0th ciphertext block\" called the initialization vector, or IV.\n",
    "<br><br>\n",
    "Implement CBC mode by hand by taking the ECB function you wrote earlier, making it encrypt instead of decrypt (verify this by decrypting whatever you encrypt to test), and using your XOR function from the previous exercise to combine them.\n",
    "<br><br>\n",
    "The [file](https://cryptopals.com/static/challenge-data/10.txt) here is intelligible (somewhat) when CBC decrypted against \"YELLOW SUBMARINE\" with an IV of all ASCII 0 (\\x00\\x00\\x00 &c)\n",
    "Don't cheat.\n",
    "<br><br>\n",
    "Do not use OpenSSL's CBC code to do CBC mode, even to verify your results. What's the point of even doing this stuff if you aren't going to learn from it?"
   ]
  },
  {
   "attachments": {
    "CBC_encryption.png": {
     "image/png": "[encoded data removed]"
    }
   },
   "cell_type": "markdown",
   "metadata": {},
   "source": [
    "Again, challenge is pretty self explanatory, more of an implementation task. this picture (from wikepedia) pretty much says it all:![CBC_encryption.png](attachment:CBC_encryption.png)"
   ]
  },
  {
   "cell_type": "code",
   "execution_count": 5,
   "metadata": {},
   "outputs": [],
   "source": [
    "def CBC_decrypt(ciphertext, KEY, IV = None):\n",
    "    decrypt = Chall7.ECB_decrypt\n",
    "    \n",
    "    if IV is None:\n",
    "        IV = b\"\\x00\"*16\n",
    "        \n",
    "    plain_blocks = []\n",
    "    blocks = [ciphertext[16*i:16*(i+1)] for i in range((len(ciphertext)+15)//16)]\n",
    "    last_block = IV\n",
    "    \n",
    "    for block in blocks:\n",
    "        decrypted_block = decrypt(block, KEY)\n",
    "        plaintext_block = fixed_XOR(decrypted_block, last_block)\n",
    "        plain_blocks.append(plaintext_block)\n",
    "        last_block = block\n",
    "        \n",
    "    return b''.join(plain_blocks)\n",
    "\n",
    "\"\"\" if you'd recall, we implemented a fixed XOR func in chall 1-6, here is it's code: \"\"\"\n",
    "def fixed_XOR(s1 : bytes, s2 : bytes) -> bytes:\n",
    "    return bytes([b1^b2 for b1, b2 in zip(s1, s2)])\n",
    "\n",
    "def CBC_encrypt(plaintext : bytes, KEY, IV):\n",
    "    encrypt = Chall7.ECB_encrypt\n",
    "    \n",
    "    plaintext = Pkcs7.add_padding(plaintext)\n",
    "    ciphertext_blocks = []\n",
    "    blocks = [plaintext[16*i:16*(i+1)] for i in range((len(plaintext)+15)//16)]\n",
    "    last_block = IV\n",
    "    \n",
    "    for block in blocks:\n",
    "        xored_block = fixed_XOR(block, last_block)\n",
    "        cipher_block = encrypt(xored_block, KEY)\n",
    "        ciphertext_blocks.append(cipher_block)\n",
    "        last_block = cipher_block\n",
    "        \n",
    "    return b''.join(ciphertext_blocks)"
   ]
  },
  {
   "cell_type": "code",
   "execution_count": 6,
   "metadata": {},
   "outputs": [
    {
     "data": {
      "text/plain": [
       "\"I'm back and I'm ringin' the bell \\nA rockin' on the\""
      ]
     },
     "execution_count": 6,
     "metadata": {},
     "output_type": "execute_result"
    }
   ],
   "source": [
    "from base64 import b64decode\n",
    "contents = b64decode(open(\"input_files/10.txt\").read())\n",
    "KEY = b\"YELLOW SUBMARINE\"\n",
    "plaintext = CBC_decrypt(contents, b\"YELLOW SUBMARINE\")\n",
    "plaintext.decode()[:51]"
   ]
  },
  {
   "cell_type": "markdown",
   "metadata": {},
   "source": [
    "## Challenge 11: An ECB/CBC detection oracle"
   ]
  },
  {
   "cell_type": "markdown",
   "metadata": {},
   "source": [
    "[<strong> description</strong>](https://cryptopals.com/sets/2/challenges/11): <br>\n",
    "> Now that you have ECB and CBC working:\n",
    "<br><br>\n",
    "Write a function to generate a random AES key; that's just 16 random bytes.\n",
    "<br><br>\n",
    "Write a function that encrypts data under an unknown key --- that is, a function that generates a random key and encrypts under it.\n",
    "<br><br>\n",
    "The function should look like:\n",
    "<br><br>\n",
    "encryption_oracle(your-input)\n",
    "=> [MEANINGLESS JIBBER JABBER]\n",
    "<br><br>\n",
    "Under the hood, have the function append 5-10 bytes (count chosen randomly) before the plaintext and 5-10 bytes after the plaintext.\n",
    "<br><br>\n",
    "Now, have the function choose to encrypt under ECB 1/2 the time, and under CBC the other half (just use random IVs each time for CBC). Use rand(2) to decide which to use.\n",
    "<br><br>\n",
    "Detect the block cipher mode the function is using each time. You should end up with a piece of code that, pointed at a block box that might be encrypting ECB or CBC, tells you which one is happening. "
   ]
  },
  {
   "cell_type": "markdown",
   "metadata": {},
   "source": [
    "This is the only challenge so far that felt kinda weird, maybe even pointless. nontheless, here is how i think you should solve it: (using the same ECB detection scheme from challenge 8)"
   ]
  },
  {
   "cell_type": "code",
   "execution_count": 34,
   "metadata": {},
   "outputs": [],
   "source": [
    "import secrets\n",
    "import random\n",
    "import string\n",
    "\n",
    "class Chall11:\n",
    "    @staticmethod\n",
    "    def gen_random_bytes(min_count, max_count) -> bytes:\n",
    "        return bytes([secrets.randbelow(256) for i in range(\n",
    "        random.randint(min_count, max_count))])\n",
    "    \n",
    "    def encryption_oracle(plaintext : bytes):\n",
    "        rand_key = gen_random_bytes(16, 16)\n",
    "        pre = gen_random_bytes(5, 10)\n",
    "        post = gen_random_bytes(5, 10)\n",
    "        plaintext = pre + plaintext + post\n",
    "\n",
    "        first_half, second_half = plaintext[:len(plaintext)//2], plaintext[len(plaintext)//2:]\n",
    "        if random.choice([True, False]):\n",
    "            first_half, second_half = second_half, first_half\n",
    "        first_half_enc = Chall7.ECB_encrypt(first_half, rand_key)\n",
    "        second_half_enc = CBC_encrypt(second_half, rand_key, gen_random_bytes(16, 16))\n",
    "        return first_half_enc, second_half_enc\n",
    "    \n",
    "    def detection_oracle(ciphertext : bytes):\n",
    "        \"\"\"returns true if the ciphertext was encrypted with ECB, else false\"\"\"\n",
    "        block_dict = split_line_2_blocks(ciphertext)\n",
    "        return any(x > 2 for x in block_dict.values())"
   ]
  },
  {
   "cell_type": "markdown",
   "metadata": {},
   "source": [
    "## Challenge 12: Byte-at-a-time ECB decryption (Simple)"
   ]
  },
  {
   "cell_type": "markdown",
   "metadata": {},
   "source": [
    "[<strong> description</strong>](https://cryptopals.com/sets/2/challenges/12): <br>\n",
    "> Byte-at-a-time ECB decryption (Simple)\n",
    "<br><br>\n",
    "Copy your oracle function to a new function that encrypts buffers under ECB mode using a consistent but unknown key (for instance, assign a single random key, once, to a global variable).\n",
    "<br><br>\n",
    "Now take that same function and have it append to the plaintext, BEFORE ENCRYPTING, the following string:\n",
    "<br><br>\n",
    "Um9sbGluJyBpbiBteSA1LjAKV2l0aCBteSByYWctdG9wIGRvd24gc28gbXkg\n",
    "aGFpciBjYW4gYmxvdwpUaGUgZ2lybGllcyBvbiBzdGFuZGJ5IHdhdmluZyBq\n",
    "dXN0IHRvIHNheSBoaQpEaWQgeW91IHN0b3A/IE5vLCBJIGp1c3QgZHJvdmUg\n",
    "YnkK\n",
    "<br><br>\n",
    "Spoiler alert.\n",
    "<br><br>\n",
    "Do not decode this string now. Don't do it.\n",
    "<br><br>\n",
    "Base64 decode the string before appending it. Do not base64 decode the string by hand; make your code do it. The point is that you don't know its contents.\n",
    "<br><br>\n",
    "What you have now is a function that produces:\n",
    "<br><br>\n",
    "AES-128-ECB(your-string || unknown-string, random-key)\n",
    "<br><br>\n",
    "It turns out: you can decrypt \"unknown-string\" with repeated calls to the oracle function! "
   ]
  },
  {
   "cell_type": "markdown",
   "metadata": {},
   "source": [
    "Firstly, we should implement the oracle so that we have some code in front of our eyes to better understand:"
   ]
  },
  {
   "cell_type": "code",
   "execution_count": 35,
   "metadata": {},
   "outputs": [],
   "source": [
    "from base64 import b64decode\n",
    "import os\n",
    "\n",
    "\"\"\" the following would be unknown in a real-life scenario, consider it 'backend' code \"\"\"\n",
    "KEY = os.urandom(16)\n",
    "unknown_string = b64decode(\"Um9sbGluJyBpbiBteSA1LjAKV2l0aCBteSByYWctdG9wIGRvd24gc28gbXkgaGFpciBjYW4gYmxvdwpUaGUgZ2ly\" +\n",
    "                    \"bGllcyBvbiBzdGFuZGJ5IHdhdmluZyBqdXN0IHRvIHNheSBoaQpEaWQgeW91IHN0b3A/IE5vLCBJIGp1c3QgZHJvdmUg\")\n",
    "\n",
    "def enc_oracle_chall12(plaintext):\n",
    "    assert len(plaintext) > 0, \"null input isn't allowed in oracle\"\n",
    "    return ECB_encrypt(plaintext+unknown_string, KEY)"
   ]
  },
  {
   "cell_type": "markdown",
   "metadata": {},
   "source": [
    "<strong> The attack plan: </strong>\n",
    "1. discover the block_size and the padding-size. this is done rather simply:\n",
    "    1. call the oracle function with input string of `'A'` then `'AA'` then `'AAA'` etc...\n",
    "    2. record the initial result length for the single byte 'A'.\n",
    "    3. when the result changes we discover 2 things:\n",
    "        1. the block_size: just compare the new cipher-size to the initial result. the diff is the block size.\n",
    "        2. the padding_size: the padding is the same as the ammount of A's added before the change, unless its block_size + 1, in which case the padding size is 1. (we created a new block by adding the first 'A') <br><br>\n",
    "2. discover how many block there are, this can be done by using `input := 'A'*block_size`, count how many blocks there are in this ciphertext and decrement by 1. <br><br>\n",
    "3. discover every block but the last one in the same manner:\n",
    "    1. discover the first byte of the block by using '`A'*(block_size-1)`. what we will get in the equivalent `cipher_block` is `AES_ECB(key, prev_block[1:] + curr_block[0])`. <br><br>\n",
    "    2. since we already know the result of `AES_ECB(key, prev_block)` (for the initial prev_block, just use `'A'*16` and find out its result by examining `ciphertext[:16]`), just run through all 256 possibilities for `curr_block[0]` until we get the one that results in the same cipher_block. <br><br>\n",
    "    3. discover the second byte by using `'A'*(block_size-2)`. we will get the result of `AES_ECB(key, prev_block[2:] + curr_block[:2])`, but we already know `curr_block[0]` so crack `curr_block[1]` in the same process as (2). <br><br>\n",
    "    4. repeat for all bytes in the block but the last one, this one is a bit trickier since we can't do `oracle(\"\")` <br><br>\n",
    "    5. The last byte: use a full blocksize*\"A\" input to the oracle, then look at the next block instead of the current one. its exactly the same as the first byte discovery but this time instead of `prev_block` we use the `block_size-1` bytes we already discovered. <br><br>\n",
    "    6. call the function again, but this time with an updated prev_block. <br><br>\n",
    "4. this one is almost identical to 3, but we need to take into account the `padding_size`, so do (3), but not until we get the whole block, but only until we get the exact ammount of non-padding bytes in it. <br><br>\n",
    "5. concatenate all discovered bytes and return the result. WE WIN :)\n",
    "\n",
    "NOTE: a dictionary should be used since there are multiple uses of the same function calls with the same input (for instance using `input = 'A'`)"
   ]
  },
  {
   "cell_type": "code",
   "execution_count": 36,
   "metadata": {},
   "outputs": [],
   "source": [
    "from collections.abc import Callable\n",
    "\n",
    "class basic_ECB_decryptor:\n",
    "    \"\"\"byte at a time AES_ECB decrypto. given: func(input) -> enc(input + target).\n",
    "    where enc is AES_ECB. decryptor(func) -> target\"\"\"\n",
    "    def __init__(self, enc_oracle : Callable):\n",
    "        self.AES_dict = {}\n",
    "        self.enc_oracle = enc_oracle\n",
    "        self.block_size, self.padding_size = self.__detect_block_size_and_padding()\n",
    "    \n",
    "    def solve(self):\n",
    "        try:\n",
    "            return self.target_string\n",
    "        except AttributeError:\n",
    "            self.target_string = self.__discover_unknown_string()\n",
    "            return self.target_string\n",
    "    \n",
    "    def __detect_block_size_and_padding(self):\n",
    "        base_len = len(self.enc_oracle(b\"A\"))\n",
    "        curr_len = base_len\n",
    "        i = 1\n",
    "        while curr_len == base_len:\n",
    "            i += 1\n",
    "            s = b\"A\"*i\n",
    "            enc_res = self.enc_oracle(s)\n",
    "            curr_len = len(enc_res)\n",
    "            self.AES_dict[s] = enc_res\n",
    "        block_size = curr_len-base_len\n",
    "        return (block_size, 1 if i == block_size+1 else i)\n",
    "    \n",
    "    def __discover_unknown_string(self):\n",
    "        prev_block = b'A'*self.block_size\n",
    "        tmp_cipher = self.enc_oracle(prev_block)\n",
    "        discovered_blocks = []\n",
    "        for block_num in range(len(tmp_cipher)//16 - 2):\n",
    "            prev_block = self.__decipher_block(prev_block, block_num)\n",
    "            discovered_blocks.append(prev_block)\n",
    "        # last_block\n",
    "        prev_block = self.__decipher_block(prev_block, len(tmp_cipher)//16-2, self.block_size-self.padding_size)\n",
    "        discovered_blocks.append(prev_block)\n",
    "        return b\"\".join(discovered_blocks)\n",
    "    \n",
    "    def __decipher_block(self, prev_block, block_num, letter_count=None):\n",
    "        do_last_byte = False\n",
    "        if letter_count is None or letter_count == self.block_size:\n",
    "            letter_count = self.block_size-1\n",
    "            do_last_byte = True\n",
    "        assert letter_count <= self.block_size, \"letter_count must be <= block_size\"\n",
    "    \n",
    "        discovered_letters = b\"\"\n",
    "        for i in range(letter_count): # loop for discovering block_size-1 first bytes, last byte is harder\n",
    "            oracle_input = b\"A\"*(self.block_size-i-1)\n",
    "            if oracle_input in self.AES_dict:\n",
    "                oracle_output = self.AES_dict[oracle_input]\n",
    "            else:\n",
    "                oracle_output = self.enc_oracle(oracle_input)\n",
    "                self.AES_dict[oracle_input] = oracle_output\n",
    "            cipher_block = oracle_output[block_num*self.block_size:(block_num+1)*self.block_size]\n",
    "            res_byte = self.__discover_byte(prev_block[i+1:]+discovered_letters, cipher_block)\n",
    "            discovered_letters += res_byte\n",
    "\n",
    "        # discovering the last byte\n",
    "        if do_last_byte:\n",
    "            oracle_input = b\"A\"*self.block_size\n",
    "            if oracle_input in self.AES_dict:\n",
    "                oracle_output = self.AES_dict[oracle_input]\n",
    "            else:\n",
    "                oracle_output = self.enc_oracle(oracle_input)\n",
    "                self.AES_dict[oracle_input] = oracle_output\n",
    "\n",
    "            cipher_block = oracle_output[(block_num+1)*self.block_size:(block_num+2)*self.block_size]\n",
    "            res_byte = self.__discover_byte(discovered_letters, cipher_block)\n",
    "            discovered_letters += res_byte\n",
    "        return discovered_letters\n",
    "    \n",
    "    def __discover_byte(self, partial_plaintext, cipher_block):\n",
    "        b_arr = bytearray(partial_plaintext)\n",
    "        for possible_byte in range(256):\n",
    "            b_arr.append(possible_byte)\n",
    "            enc_res = self.enc_oracle(bytes(b_arr))[:self.block_size]\n",
    "            if enc_res == cipher_block:\n",
    "                return chr(possible_byte).encode()\n",
    "            b_arr.pop()\n",
    "        assert False, \"error, shouldn't have made it here\""
   ]
  },
  {
   "cell_type": "code",
   "execution_count": 37,
   "metadata": {},
   "outputs": [
    {
     "data": {
      "text/plain": [
       "b\"Rollin' in my 5.0\\nWith my rag-top down so my hair can blow\\nThe girlies on standby waving just to say hi\\nDid you stop? No, I just drove \""
      ]
     },
     "execution_count": 37,
     "metadata": {},
     "output_type": "execute_result"
    }
   ],
   "source": [
    "my_dec = basic_ECB_decryptor(enc_oracle_chall12)\n",
    "my_dec.solve()"
   ]
  },
  {
   "cell_type": "markdown",
   "metadata": {},
   "source": [
    "## Challenge 13: ECB cut-and-paste"
   ]
  },
  {
   "cell_type": "markdown",
   "metadata": {},
   "source": [
    "[<strong> description</strong>](https://cryptopals.com/sets/2/challenges/13): <br>\n",
    ">  Write a k=v parsing routine, as if for a structured cookie. The routine should take:\n",
    "<br><br>\n",
    "foo=bar&baz=qux&zap=zazzle\n",
    "<br><br>\n",
    "... and produce:\n",
    "<br><br>\n",
    "{\n",
    "  foo: 'bar',\n",
    "  baz: 'qux',\n",
    "  zap: 'zazzle'\n",
    "}\n",
    "<br><br>\n",
    "(you know, the object; I don't care if you convert it to JSON).\n",
    "<br><br>\n",
    "Now write a function that encodes a user profile in that format, given an email address. You should have something like:\n",
    "<br><br>\n",
    "profile_for(\"foo@bar.com\")\n",
    "<br><br>\n",
    "... and it should produce:\n",
    "<br><br>\n",
    "{\n",
    "  email: 'foo@bar.com',\n",
    "  uid: 10,\n",
    "  role: 'user'\n",
    "}\n",
    "<br><br>\n",
    "... encoded as:\n",
    "<br><br>\n",
    "email=foo@bar.com&uid=10&role=user\n",
    "<br><br>\n",
    "Your \"profile_for\" function should not allow encoding metacharacters (& and =). Eat them, quote them, whatever you want to do, but don't let people set their email address to \"foo@bar.com&role=admin\".\n",
    "<br><br>\n",
    "Now, two more easy functions. Generate a random AES key, then:\n",
    "<br><br>\n",
    "A. Encrypt the encoded user profile under the key; \"provide\" that to the \"attacker\". <br>\n",
    "B. Decrypt the encoded user profile and parse it.\n",
    "<br><br>\n",
    "Using only the user input to profile_for() (as an oracle to generate \"valid\" ciphertexts) and the ciphertexts themselves, make a role=admin profile. "
   ]
  },
  {
   "cell_type": "markdown",
   "metadata": {},
   "source": [
    "first, let us implement all the required function. I chose to package them into a class to make things nicer:"
   ]
  },
  {
   "cell_type": "code",
   "execution_count": 38,
   "metadata": {},
   "outputs": [],
   "source": [
    "class Profile:\n",
    "    \"\"\"this is VULNERABLE code, made vulnerable on purpose. USE FOR CTF PURPOSES ONLY\"\"\"\n",
    "    AES_KEY = os.urandom(16)\n",
    "\n",
    "    __not_allowed_in_email = [b'&', b'=']\n",
    "    # changing the uid is fine, as long as it's digit count remains the same.\n",
    "    __curr_uid = 10\n",
    "\n",
    "    @staticmethod\n",
    "    def kv_parser(expression : bytes):\n",
    "        d = {}\n",
    "        for pair in expression.split(b'&'):\n",
    "            k, v = pair.split(b'=')\n",
    "            d[k] = v\n",
    "        return d\n",
    "\n",
    "    @classmethod\n",
    "    def from_encrypted(cls, encrypted_profile):\n",
    "        encoded_prof = Chall7.ECB_decrypt(encrypted_profile, Profile.AES_KEY)\n",
    "        return cls.__from_encoded(encoded_prof)\n",
    "    \n",
    "    @classmethod\n",
    "    def __from_encoded(cls, encoded_profile):\n",
    "        profile_dict = Profile.kv_parser(encoded_profile)\n",
    "        return cls.__from_dict(profile_dict)\n",
    "\n",
    "    @classmethod\n",
    "    def __from_dict(cls, profile_dict):\n",
    "        prof = cls(profile_dict[b'email'])\n",
    "        prof.__uid = int(profile_dict[b'uid'])\n",
    "        prof.__role = profile_dict[b'role']\n",
    "        Profile.__curr_uid -= 1\n",
    "        return prof\n",
    "\n",
    "    def __init__(self, email): # aka profile_for\n",
    "        if not isinstance(email, bytes):\n",
    "            email = email.encode()\n",
    "        for s in Profile.__not_allowed_in_email:\n",
    "            email = email.replace(s, b\"\")\n",
    "        self.__email = email\n",
    "        self.__uid = Profile.__curr_uid \n",
    "        self.__role = b'user'\n",
    "        Profile.__curr_uid += 1\n",
    "\n",
    "    def get_dict(self):\n",
    "        d = {}\n",
    "        d['email'] = self.__email\n",
    "        d['uid'] = self.__uid\n",
    "        d['role'] = self.__role\n",
    "        return d\n",
    "\n",
    "    def __bytes__(self):\n",
    "        return b\"email=%b&uid=%d&role=%b\" % (self.__email, self.__uid, self.__role)\n",
    "\n",
    "    def encrypt(self):\n",
    "        \"\"\"return the encoded user profile, encrypted using AES_ECB\"\"\"\n",
    "        return ECB_encrypt(bytes(self), Profile.AES_KEY)"
   ]
  },
  {
   "cell_type": "markdown",
   "metadata": {},
   "source": [
    "<strong> Plan of Attack: </strong>\n",
    "1. since in ECB mode each block is indepent of its previous and following ones, we can use this to our advantage by every time targeting a single block, then 'cutting and pasting them together'.\n",
    "2. we create a block starting with 'admin' (that doesn't end with 'role') to get the following blocks:\n",
    "    1. `\"email=\" + 'A'*9 + '@'`\n",
    "    2. `\"admin&uid=10&rol\"` -> this is the only one we care about. we will call it `second_block`\n",
    "    3. `\"e=user\" + padding`\n",
    "3. we create a block starting with '=' followed by whatever, this will be the follow-up block to close of the `rol` tag remaining from block 2 above. we will call this `third_block`\n",
    "4. finally, create a valid email such that the string `\"user\"` is left on a block on its own. (meaning the previous block ends with `\"role=\"`). we will call this `cipher`\n",
    "5. combine `cipher` with the `second_block` and `third_block` by replacing the last block of cipher, so `cipher[-16:]` with `second_block + third_block`"
   ]
  },
  {
   "cell_type": "code",
   "execution_count": 39,
   "metadata": {},
   "outputs": [],
   "source": [
    "def break_profile():\n",
    "    # step 2\n",
    "    discovery = b\"A\"*9 + b\"@\" + b\"admin\"\n",
    "    prof = Profile(discovery)\n",
    "    cipher = prof.encrypt()\n",
    "    second_block = cipher[16:32]\n",
    "    \n",
    "    # step 3\n",
    "    prof = Profile(b\"ABCDEF@bar.com\") # ABCDEF is arbitrary\n",
    "    cipher = prof.encrypt()\n",
    "    third_block = cipher[-16:]\n",
    "    \n",
    "    # step 4\n",
    "    prof = Profile(b\"ABCDE@bar.com\") # ABCDE is arbitrary\n",
    "    cipher = prof.encrypt()\n",
    "    \n",
    "    # step 5\n",
    "    sol_blocks = [cipher[i*16:(i+1)*16] for i in range(len(cipher)//16 - 1)] # doesn't include [\"user\"]\n",
    "    sol_blocks.append(second_block)\n",
    "    sol_blocks.append(third_block)\n",
    "    exploit = b''.join(sol_blocks)\n",
    "    return Profile.from_encrypted(exploit) # this profile will have role:admin"
   ]
  },
  {
   "cell_type": "code",
   "execution_count": 40,
   "metadata": {},
   "outputs": [
    {
     "data": {
      "text/plain": [
       "b'email=ABCDE@bar.com&uid=10&role=admin'"
      ]
     },
     "execution_count": 40,
     "metadata": {},
     "output_type": "execute_result"
    }
   ],
   "source": [
    "prof = break_profile()\n",
    "bytes(prof)"
   ]
  },
  {
   "cell_type": "markdown",
   "metadata": {},
   "source": [
    "## Challenge 14: Byte-at-a-time ECB decryption (Harder)"
   ]
  },
  {
   "cell_type": "markdown",
   "metadata": {},
   "source": [
    "[<strong> description</strong>](https://cryptopals.com/sets/2/challenges/14): <br>\n",
    ">  Take your oracle function from #12. Now generate a random count of random bytes and prepend this string to every plaintext. You are now doing:\n",
    "<br><br>\n",
    "AES-128-ECB(random-prefix || attacker-controlled || target-bytes, random-key)\n",
    "<br><br>\n",
    "Same goal: decrypt the target-bytes.\n",
    "Stop and think for a second.\n",
    "<br><br>\n",
    "What's harder than challenge #12 about doing this? How would you overcome that obstacle? The hint is: you're using all the tools you already have; no crazy math is required.\n",
    "<br><br>\n",
    "Think \"STIMULUS\" and \"RESPONSE\"."
   ]
  },
  {
   "cell_type": "markdown",
   "metadata": {},
   "source": [
    "lets first implement the oracle:"
   ]
  },
  {
   "cell_type": "code",
   "execution_count": 41,
   "metadata": {},
   "outputs": [],
   "source": [
    "import secrets, os\n",
    "\n",
    "random_prefix_len = secrets.randbelow(32)\n",
    "random_prefix = os.urandom(random_prefix_len)\n",
    "\n",
    "def enc_oracle_chall14(plaintext):\n",
    "    assert len(plaintext) > 0, \"null strings aren't allowed\"\n",
    "    return enc_oracle_chall12(random_prefix + plaintext) "
   ]
  },
  {
   "cell_type": "markdown",
   "metadata": {},
   "source": [
    "On its own, this would be a very hard challenge, but we already solved a significant part of it in challenge 12, making it significantly easier. basically reducing it into 2 steps:\n",
    "\n",
    "<strong>Plan of Attack: </strong>\n",
    "1. we discover how long the prefix is.\n",
    "    1. we will first discover how many blocks of prefix there are. <br><br>\n",
    "    2. we will use `input = 'a'` then use `input = 'b'`, the first block that changes, means it was affected by the input - e.g it contains input and not just prefix, therefore it is the last block of the prefix (it can also be a block with no prefix at all if prefix is a multiple of 16). <br><br>\n",
    "    3. we will now discover the size of the last block of prefix, ranging between 0 (in case the last block has no prefix) to 15.  we do this by: <br><br>\n",
    "        1. if we used `input = 'A'*k` and that resulted in `cipher = AES((random-prefix+input)[:16], key)`, if we also used `input = 'A'*(k+1)` and got the same result (the same `cipher`) we can tell that the `prefix_size = 16-k` if k is the lowest positive integer that answers that requirement (because we are going to get `block1 = random_prefix + 'A'*k` and `block 2 = 'A' + other`). <br>\n",
    "    at the same time we are doing this with 'A', also do with 'B' on the off chance the target-bytes start with 'A', only when both are as stated above we found our len. <br><br>\n",
    "    5. NOTE: once again we use a dictionary to \"remember\" ciphers repeating on themselves. <br><br>\n",
    "2. we define a new intermediate oracle, that prepends `'A'*k` bytes to its input before passing it to the actual oracle, after that, its exactly like challenge 12."
   ]
  },
  {
   "cell_type": "code",
   "execution_count": 42,
   "metadata": {},
   "outputs": [],
   "source": [
    "from collections.abc import Callable\n",
    "\n",
    "class ECB_decryptor:\n",
    "    def __init__(self, oracle : Callable):\n",
    "        self.enc_oracle = oracle\n",
    "        self.AES_dict = {}\n",
    "        self.prefix_blocks_cnt = None # to be set\n",
    "        self.prefix_len = self.get_prefix_len()\n",
    "        self.last_prefix_block_len = self.prefix_len % 16\n",
    "        self.basic_ECB_decryptor = None # to be set\n",
    "        \n",
    "    def solve(self):\n",
    "        intermediate_oracle = self.gen_intermediate_oracle()\n",
    "        self.basic_ECB_decryptor = basic_ECB_decryptor(intermediate_oracle)\n",
    "        return self.basic_ECB_decryptor.solve()\n",
    "    \n",
    "    def gen_intermediate_oracle(self):\n",
    "        def intermediate_oracle(plaintext):\n",
    "            full_res = self.enc_oracle(b\"A\"*(16-self.last_prefix_block_len)+plaintext)\n",
    "            return full_res[16*(self.prefix_blocks_cnt+1):] # reduce all the prefix parts\n",
    "        return intermediate_oracle\n",
    "    \n",
    "    def get_prefix_len(self):\n",
    "        ciphertextA = self.enc_oracle(b\"A\")\n",
    "        ciphertextB = self.enc_oracle(b\"B\")\n",
    "        i = 0\n",
    "        while ciphertextA[i*16:(i+1)*16] == ciphertextB[i*16:(i+1)*16]:\n",
    "            i += 1\n",
    "\n",
    "        self.prefix_blocks_cnt = i\n",
    "\n",
    "        self.AES_dict[b\"A\"] = ciphertextA\n",
    "        self.AES_dict[b\"B\"] = ciphertextB\n",
    "\n",
    "        # the use of both B and A is in case the target starts with A or with B\n",
    "        last_blockA = \"\"\n",
    "        last_blockB = \"\"\n",
    "\n",
    "        for k in range(1, 17):\n",
    "            A_input = b\"A\"*k\n",
    "            B_input = b\"B\"*k\n",
    "            if A_input not in self.AES_dict:\n",
    "                self.AES_dict[A_input] = self.enc_oracle(A_input)\n",
    "            if B_input not in self.AES_dict:\n",
    "                self.AES_dict[B_input] = self.enc_oracle(B_input)\n",
    "            ciphertextA = self.AES_dict[A_input]\n",
    "            ciphertextB = self.AES_dict[B_input]\n",
    "\n",
    "            curr_blockA = ciphertextA[i*16:(i+1)*16]\n",
    "            curr_blockB = ciphertextB[i*16:(i+1)*16]\n",
    "\n",
    "            if curr_blockA == last_blockA and curr_blockB == last_blockB:\n",
    "                return 16*(i+1)-k+1 # this is len(prefix)\n",
    "\n",
    "            last_blockA = curr_blockA\n",
    "            last_blockB = curr_blockB\n",
    "        assert False, \"shouldn't have made it here\""
   ]
  },
  {
   "cell_type": "code",
   "execution_count": 43,
   "metadata": {},
   "outputs": [
    {
     "data": {
      "text/plain": [
       "b\"Rollin' in my 5.0\\nWith my rag-top down so my hair can blow\\nThe girlies on standby waving just to say hi\\nDid you stop? No, I just drove \""
      ]
     },
     "execution_count": 43,
     "metadata": {},
     "output_type": "execute_result"
    }
   ],
   "source": [
    "my_dec = ECB_decryptor(enc_oracle_chall14)\n",
    "my_dec.solve()"
   ]
  },
  {
   "cell_type": "markdown",
   "metadata": {},
   "source": [
    "## Challenge 16: CBC bitflipping attacks"
   ]
  },
  {
   "cell_type": "markdown",
   "metadata": {},
   "source": [
    "[<strong> description</strong>](https://cryptopals.com/sets/2/challenges/16): <br>\n",
    ">  Generate a random AES key.\n",
    "<br><br>\n",
    "Combine your padding code and CBC code to write two functions.\n",
    "<br><br>\n",
    "The first function should take an arbitrary input string, prepend the string:\n",
    "<br><br>\n",
    "\"comment1=cooking%20MCs;userdata=\"\n",
    "<br><br>\n",
    ".. and append the string:\n",
    "<br><br>\n",
    "\";comment2=%20like%20a%20pound%20of%20bacon\"\n",
    "<br><br>\n",
    "The function should quote out the \";\" and \"=\" characters.\n",
    "<br><br>\n",
    "The function should then pad out the input to the 16-byte AES block length and encrypt it under the random AES key.\n",
    "<br><br>\n",
    "The second function should decrypt the string and look for the characters \";admin=true;\" (or, equivalently, decrypt, split the string on \";\", convert each resulting string into 2-tuples, and look for the \"admin\" tuple).\n",
    "<br><br>\n",
    "Return true or false based on whether the string exists.\n",
    "<br><br>\n",
    "If you've written the first function properly, it should not be possible to provide user input to it that will generate the string the second function is looking for. We'll have to break the crypto to do that.\n",
    "<br><br>\n",
    "Instead, modify the ciphertext (without knowledge of the AES key) to accomplish this.\n",
    "<br><br>\n",
    "You're relying on the fact that in CBC mode, a 1-bit error in a ciphertext block:\n",
    "<br><br>\n",
    "A. Completely scrambles the block the error occurs in <br>\n",
    "B. Produces the identical 1-bit error(/edit) in the next ciphertext block.\n",
    "<br><br>\n",
    "Stop and think for a second.\n",
    "<br><br>\n",
    "Before you implement this attack, answer this question: why does CBC mode have this property?"
   ]
  },
  {
   "cell_type": "markdown",
   "metadata": {},
   "source": [
    "Let us first implement the two functions described, i am using a bit of [regex](https://www.regular-expressions.info/lookaround.html) to quote out the '=' and ';', basically what it does is check for ';' that are not in form \";\", and fix them. its not entirely secure but its the best I could come up with and should be good enough as this isn't the focus of the challenge"
   ]
  },
  {
   "cell_type": "code",
   "execution_count": 68,
   "metadata": {},
   "outputs": [],
   "source": [
    "import os, re\n",
    "\n",
    "key = os.urandom(16)\n",
    "IV = os.urandom(16)\n",
    "\n",
    "def re_quote(text, char):\n",
    "    \"\"\"\n",
    "    this is vulnerable to stuff like '\"=\";\"=\"' which would seem fine but is not as the ; isn't quoted.\n",
    "    still, its good enough for its purpose.\n",
    "    \"\"\"\n",
    "    # replace all occurences of ';' which are not between quotes, with '\";\"'\n",
    "    # using lookbehind and lookahead\n",
    "    text = re.sub(b'(?<!\")' + char + b'(?!\")', b'\"' + char + b'\"', text) # replace ';' with '\";\"'\n",
    "    text = re.sub(b'(?<!\")' + char + b'(?=\")', b'\"' + char, text) # replace ';\"' with '\";\"\"'\n",
    "    text = re.sub(b'(?<=\")' + char + b'(?!\")', char + b'\"', text) # replace '\";' with '\"\";\"'\n",
    "    return text\n",
    "        \n",
    "def quote(text, char):\n",
    "    \"\"\"vulnerable to stuff like: \";=\" \"\"\"\n",
    "    return text.replace(char, b'\"' + char + b'\"')\n",
    "\n",
    "def enc_oracle_chall16(plaintext):\n",
    "    pre = b'comment1=cooking%20MCs;userdata='\n",
    "    post = b';comment2=%20like%20a%20pound%20of%20bacon'\n",
    "    plaintext = pre + plaintext + post\n",
    "    \n",
    "    plaintext = re_quote(plaintext, b';')\n",
    "    plaintext = re_quote(plaintext, b'=')\n",
    "\n",
    "    ciphertext = CBC_encrypt(plaintext, key, IV)\n",
    "    return ciphertext\n",
    "\n",
    "def dec_oracle_chall16(ciphertext):\n",
    "    plaintext = CBC_decrypt(ciphertext, key, IV)\n",
    "    print(plaintext)\n",
    "    return b\";admin=true;\" in plaintext"
   ]
  },
  {
   "cell_type": "markdown",
   "metadata": {},
   "source": [
    "This time we can use the following <strong> Attack Plan: </strong>\n",
    "1. the exploit after decryption should be: pre + padding + \";admin=true;\" + post. set `GOAL = \";admin=true;\"`\n",
    "2. we can do it the following way:\n",
    "    1. we calculate the len of pre after quoting out ';' and '='. let's call it `len(quoted_pre)` <br><br>\n",
    "    2. we calculate `padding_size` such that `(len(quoted_pre) + padding_size) % block_size = 0`, that way `GOAL` will start a new block, and won't be split across 2 block. <br><br>\n",
    "    3. we calculate the indexes of the '?' in the pre + GOAL part. <br><br>\n",
    "    4. we choose 2 chars, one to stand for ';' and one for '=' so they won't be quoted. i like using '?' for both. <br><br>\n",
    "    5. we calculate '?'$\\oplus$';'(=4) and '?'$\\oplus$'='(=2). <br><br>\n",
    "    6. use input such that the ciphertext if not altered will result in ?admin?true? + post (the use of '?' is explained in 4) <br><br>\n",
    "    7. $\\oplus$ the bytes in the previous block which are positioned relative to their block in the same index as the '?' is to this block, with 4 and 2 respectively. (that way when CBC decrypts it will be XORed again with our target bytes) WE WIN :)"
   ]
  },
  {
   "cell_type": "code",
   "execution_count": 69,
   "metadata": {},
   "outputs": [],
   "source": [
    "def solve():\n",
    "    block_size = 16\n",
    "    GOAL = b\"?admin?true?\"\n",
    "    pre = b'comment1=cooking%20MCs;userdata='\n",
    "    post = b';comment2=%20like%20a%20pound%20of%20bacon'\n",
    "    \n",
    "    quoted_pre = re_quote(pre, b';')\n",
    "    quoted_pre = re_quote(quoted_pre, b'=')\n",
    "    \n",
    "    padding_size = block_size - len(quoted_pre) % 16\n",
    "    padding = padding_size*b'B'\n",
    "    \n",
    "    indexer = quoted_pre + padding + GOAL\n",
    "    index_1 = indexer.find(b'?')\n",
    "    index_2 = index_1 + 1 + indexer[index_1+1:].find(b'?')\n",
    "    index_3 = index_2 + 1 + indexer[index_2+1:].find(b'?')\n",
    "        \n",
    "    cipher = enc_oracle_chall16(padding + GOAL)\n",
    "        \n",
    "    cipher_arr = bytearray(cipher)\n",
    "    cipher_arr[index_1-block_size] ^= (ord('?')^ord(';'))\n",
    "    \n",
    "    cipher_arr[index_2-block_size] ^= (ord('?')^ord('='))\n",
    "    \n",
    "    cipher_arr[index_3-block_size] ^= (ord('?')^ord(';'))\n",
    "    \n",
    "    exploit = bytes(cipher_arr)\n",
    "    res = dec_oracle_chall16(exploit)\n",
    "    return res"
   ]
  },
  {
   "cell_type": "code",
   "execution_count": 70,
   "metadata": {},
   "outputs": [
    {
     "name": "stdout",
     "output_type": "stream",
     "text": [
      "b'comment1\"=\"cooking%20MCs\";\"userdK)$\\xdc\\r\\xa2\\xe1w4\\xfd\\x19\\x8es\\xb0\\xc3n;admin=true;\";\"comment2\"=\"%20like%20a%20pound%20of%20bacon\\x06\\x06\\x06\\x06\\x06\\x06'\n"
     ]
    },
    {
     "data": {
      "text/plain": [
       "True"
      ]
     },
     "execution_count": 70,
     "metadata": {},
     "output_type": "execute_result"
    }
   ],
   "source": [
    "solve()"
   ]
  }
 ],
 "metadata": {
  "kernelspec": {
   "display_name": "Python 3 (ipykernel)",
   "language": "python",
   "name": "python3"
  },
  "language_info": {
   "codemirror_mode": {
    "name": "ipython",
    "version": 3
   },
   "file_extension": ".py",
   "mimetype": "text/x-python",
   "name": "python",
   "nbconvert_exporter": "python",
   "pygments_lexer": "ipython3",
   "version": "3.9.10"
  }
 },
 "nbformat": 4,
 "nbformat_minor": 1
}
